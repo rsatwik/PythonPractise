{
 "cells": [
  {
   "cell_type": "markdown",
   "metadata": {},
   "source": [
    "**Basics of symbolic toolbox**"
   ]
  },
  {
   "cell_type": "code",
   "execution_count": 39,
   "metadata": {},
   "outputs": [
    {
     "name": "stdout",
     "output_type": "stream",
     "text": [
      "SymPy defines three numerical types: Real, Rational and Integer.\n",
      "a: 1/2\n",
      "b: 1/3\n",
      "Rational arithmetic can be performed\n",
      "a+b: 5/6\n",
      "2a: 1\n",
      "special constants, like e, pi, oo (Infinity), are treated as symbols and can be evaluated with arbitrary precision\n",
      "2*pi\n",
      "pi**2\n",
      "E\n"
     ]
    }
   ],
   "source": [
    "# source: https://scipy-lectures.org/packages/sympy.html\n",
    "\n",
    "import sympy as sym\n",
    "print(\"SymPy defines three numerical types: Real, Rational and Integer.\")\n",
    "a=sym.Rational(1,2)\n",
    "b=sym.Rational(1,3)\n",
    "print(\"a:\",a)\n",
    "print(\"b:\",b)\n",
    "print(\"Rational arithmetic can be performed\")\n",
    "print(\"a+b:\",a+b)\n",
    "print(\"2a:\",2*a)\n",
    "print(\"special constants, like e, pi, oo (Infinity), are treated as symbols and can be evaluated with arbitrary precision\")\n",
    "print(2*sym.pi)\n",
    "print(sym.pi**2)\n",
    "print(sym.exp(1))"
   ]
  },
  {
   "cell_type": "code",
   "execution_count": 40,
   "metadata": {},
   "outputs": [
    {
     "name": "stdout",
     "output_type": "stream",
     "text": [
      "Evaluating the value using evalf function\n",
      "2pi: 6.28318530717959\n",
      "pi^2: 9.86960440108936\n",
      "e^1: 2.71828182845905\n",
      "Infinity + 1: oo\n",
      "One can adjust the precision required using the evalf\n",
      "2pi: 6.28\n",
      "100 decimal precision of Square root of 2\n",
      "1.414213562373095048801688724209698078569671875376948073176679737990732478462107038850387534327641573\n"
     ]
    }
   ],
   "source": [
    "print(\"Evaluating the value using evalf function\")\n",
    "print(\"2pi:\",(2*sym.pi).evalf())\n",
    "print(\"pi^2:\",(sym.pi**2).evalf())\n",
    "print(\"e^1:\",(sym.exp(1)).evalf())\n",
    "print(\"Infinity + 1:\",sym.oo+1)\n",
    "print(\"One can adjust the precision required using the evalf\")\n",
    "print(\"2pi:\",(2*sym.pi).evalf(3))\n",
    "print(\"100 decimal precision of Square root of 2\")\n",
    "print((sym.sqrt(2)).evalf(100))"
   ]
  },
  {
   "cell_type": "code",
   "execution_count": 41,
   "metadata": {},
   "outputs": [
    {
     "name": "stdout",
     "output_type": "stream",
     "text": [
      "2*x\n",
      "(x - y)*(x + y)\n",
      "x**4 + 4*x**3*y + 6*x**2*y**2 + 4*x*y**3 + y**4\n",
      "Adding additional arguments to expand command\n",
      "re(x) + re(y) + I*im(x) + I*im(y)\n",
      "-sin(x)*sin(y) + cos(x)*cos(y)\n",
      "x**2 - y**2\n",
      "x**6 + 6*x**5*y + 15*x**4*y**2 + 20*x**3*y**3 + 15*x**2*y**4 + 6*x*y**5 + y**6\n",
      "Using simplify command\n",
      "y + 1\n",
      "tan(x)\n"
     ]
    }
   ],
   "source": [
    "x=sym.Symbol('x')\n",
    "y=sym.Symbol('y')\n",
    "print(x+y+x-y)\n",
    "sym.init_printing(use_unicode=False, wrap_line=True)\n",
    "print((x+y)*(x-y))\n",
    "print(sym.expand((x+y)**4))\n",
    "print(\"Adding additional arguments to expand command\")\n",
    "print(sym.expand(x+y,complex=True))\n",
    "print(sym.expand(sym.cos(x+y),trig=True))\n",
    "print(sym.expand((x+y)*(x-y)))\n",
    "print(sym.expand((x+y)**6))\n",
    "\n",
    "print(\"Using simplify command\")\n",
    "print(sym.simplify((x + x * y) / x))\n",
    "print(sym.simplify(sym.sin(x)/sym.cos(x),trig=True))"
   ]
  },
  {
   "cell_type": "markdown",
   "metadata": {},
   "source": [
    "**Calculus**"
   ]
  },
  {
   "cell_type": "code",
   "execution_count": null,
   "metadata": {},
   "outputs": [],
   "source": []
  }
 ],
 "metadata": {
  "kernelspec": {
   "display_name": "Python 3",
   "language": "python",
   "name": "python3"
  },
  "language_info": {
   "codemirror_mode": {
    "name": "ipython",
    "version": 3
   },
   "file_extension": ".py",
   "mimetype": "text/x-python",
   "name": "python",
   "nbconvert_exporter": "python",
   "pygments_lexer": "ipython3",
   "version": "3.8.1"
  }
 },
 "nbformat": 4,
 "nbformat_minor": 4
}
