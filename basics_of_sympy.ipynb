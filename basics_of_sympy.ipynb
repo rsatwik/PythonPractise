{
 "cells": [
  {
   "cell_type": "markdown",
   "metadata": {},
   "source": [
    "**Rational numbers**"
   ]
  },
  {
   "cell_type": "code",
   "execution_count": 2,
   "metadata": {},
   "outputs": [
    {
     "name": "stdout",
     "output_type": "stream",
     "text": [
      "SymPy defines three numerical types: Real, Rational and Integer.\n",
      "a: 1/2\n",
      "b: 1/3\n",
      "Rational arithmetic can be performed\n",
      "a+b: 5/6\n",
      "2a: 1\n"
     ]
    }
   ],
   "source": [
    "# source: https://scipy-lectures.org/packages/sympy.html\n",
    "\n",
    "import sympy as sym\n",
    "from sympy import pprint\n",
    "print(\"SymPy defines three numerical types: Real, Rational and Integer.\")\n",
    "a=sym.Rational(1,2)\n",
    "b=sym.Rational(1,3)\n",
    "print(\"a:\",a)\n",
    "print(\"b:\",b)\n",
    "print(\"Rational arithmetic can be performed\")\n",
    "print(\"a+b:\",a+b)\n",
    "print(\"2a:\",2*a)"
   ]
  },
  {
   "cell_type": "code",
   "execution_count": 3,
   "metadata": {},
   "outputs": [
    {
     "name": "stdout",
     "output_type": "stream",
     "text": [
      "special constants, like e, pi, oo (Infinity), are treated as symbols and can be evaluated with arbitrary precision\n",
      "2⋅π\n",
      " 2\n",
      "π \n",
      "ℯ\n",
      "\n",
      "Evaluating the value using evalf function\n",
      "2pi: 6.28318530717959\n",
      "pi^2: 9.86960440108936\n",
      "e^1: 2.71828182845905\n",
      "Infinity + 1: oo\n",
      "\n",
      "One can adjust the precision required using the evalf\n",
      "2pi: 6.28\n",
      "100 decimal precision of Square root of 2\n",
      "1.414213562373095048801688724209698078569671875376948073176679737990732478462107038850387534327641573\n"
     ]
    }
   ],
   "source": [
    "print(\"special constants, like e, pi, oo (Infinity), are treated as symbols and can be evaluated with arbitrary precision\")\n",
    "pprint(2*sym.pi)\n",
    "pprint(sym.pi**2)\n",
    "pprint(sym.exp(1))\n",
    "print(\"\\nEvaluating the value using evalf function\")\n",
    "print(\"2pi:\",(2*sym.pi).evalf())\n",
    "print(\"pi^2:\",(sym.pi**2).evalf())\n",
    "print(\"e^1:\",(sym.exp(1)).evalf())\n",
    "print(\"Infinity + 1:\",sym.oo+1)\n",
    "print(\"\\nOne can adjust the precision required using the evalf\")\n",
    "print(\"2pi:\",(2*sym.pi).evalf(3))\n",
    "print(\"100 decimal precision of Square root of 2\")\n",
    "print((sym.sqrt(2)).evalf(100))"
   ]
  },
  {
   "cell_type": "markdown",
   "metadata": {},
   "source": [
    "**Expand and simplify**"
   ]
  },
  {
   "cell_type": "code",
   "execution_count": 4,
   "metadata": {},
   "outputs": [
    {
     "name": "stdout",
     "output_type": "stream",
     "text": [
      "2*x\n",
      "(x - y)*(x + y)\n",
      "x**4 + 4*x**3*y + 6*x**2*y**2 + 4*x*y**3 + y**4\n",
      "Adding additional arguments to expand command\n",
      "re(x) + re(y) + ⅈ⋅im(x) + ⅈ⋅im(y)\n",
      "-sin(x)*sin(y) + cos(x)*cos(y)\n",
      " 2    2\n",
      "x  - y \n",
      "x**6 + 6*x**5*y + 15*x**4*y**2 + 20*x**3*y**3 + 15*x**2*y**4 + 6*x*y**5 + y**6\n",
      "Using simplify command\n",
      "y + 1\n",
      "tan(x)\n"
     ]
    }
   ],
   "source": [
    "x=sym.Symbol('x')\n",
    "y=sym.Symbol('y')\n",
    "print(x+y+x-y)\n",
    "print((x+y)*(x-y))\n",
    "print(sym.expand((x+y)**4))\n",
    "print(\"Adding additional arguments to expand command\")\n",
    "pprint(sym.expand(x+y,complex=True))\n",
    "print(sym.expand(sym.cos(x+y),trig=True))\n",
    "pprint(sym.expand((x+y)*(x-y)))\n",
    "print(sym.expand((x+y)**6))\n",
    "\n",
    "print(\"Using simplify command\")\n",
    "print(sym.simplify((x + x * y) / x))\n",
    "print(sym.simplify(sym.sin(x)/sym.cos(x),trig=True))"
   ]
  },
  {
   "cell_type": "markdown",
   "metadata": {},
   "source": [
    "**Calculus and pretty printing**"
   ]
  },
  {
   "cell_type": "code",
   "execution_count": 5,
   "metadata": {},
   "outputs": [
    {
     "name": "stdout",
     "output_type": "stream",
     "text": [
      "syntax for limits limit(function, variable, point)\n",
      "1\n",
      "0\n",
      "\n",
      "syntax for differentiation diff(function, variable, order)\n",
      "1/x\n",
      "   2       \n",
      "tan (x) + 1\n",
      "\n",
      "check\n",
      "   2       \n",
      "tan (x) + 1\n",
      "\n",
      "Calculating higher derivatives using diff command\n",
      "       3\n",
      "60480⋅x \n",
      "\n",
      "check\n",
      "   8\n",
      "9⋅x \n",
      "    7\n",
      "72⋅x \n",
      "     6\n",
      "504⋅x \n",
      "      5\n",
      "3024⋅x \n",
      "       4\n",
      "15120⋅x \n",
      "       3\n",
      "60480⋅x \n",
      "        2\n",
      "181440⋅x \n",
      "362880⋅x\n",
      "362880\n"
     ]
    }
   ],
   "source": [
    "print(\"syntax for limits limit(function, variable, point)\")\n",
    "print(sym.limit(sym.sin(x)/x,x,0))\n",
    "print(sym.limit(1/x,x,sym.oo))\n",
    "print(\"\\nsyntax for differentiation diff(function, variable, order)\")\n",
    "print(sym.diff(sym.log(x),x))\n",
    "pprint(sym.diff(sym.tan(x),x))\n",
    "print(\"\\ncheck\")\n",
    "pprint(sym.limit((sym.tan(x+y)-sym.tan(x))/y,y,0))\n",
    "print(\"\\nCalculating higher derivatives using diff command\")\n",
    "pprint(sym.diff(x**9,x,6))\n",
    "print(\"\\ncheck\")\n",
    "for i in range(1,10):\n",
    "    pprint(sym.diff(x**9,x,i))"
   ]
  },
  {
   "cell_type": "markdown",
   "metadata": {},
   "source": [
    "**Taylor Series expansion**"
   ]
  },
  {
   "cell_type": "code",
   "execution_count": 85,
   "metadata": {},
   "outputs": [
    {
     "name": "stdout",
     "output_type": "stream",
     "text": [
      "Syntax series(expression, variable)\n",
      "     2    4        \n",
      "    x    x     ⎛ 6⎞\n",
      "1 - ── + ── + O⎝x ⎠\n",
      "    2    24        \n",
      "     2      4        \n",
      "    x    5⋅x     ⎛ 6⎞\n",
      "1 + ── + ──── + O⎝x ⎠\n",
      "    2     24         \n"
     ]
    }
   ],
   "source": [
    "print(\"Syntax series(expression, variable)\")\n",
    "pprint(sym.series(sym.cos(x),x))\n",
    "pprint(sym.series((1/sym.cos(x)),x))"
   ]
  },
  {
   "cell_type": "markdown",
   "metadata": {},
   "source": [
    "**Integration**"
   ]
  },
  {
   "cell_type": "code",
   "execution_count": 86,
   "metadata": {},
   "outputs": [
    {
     "name": "stdout",
     "output_type": "stream",
     "text": [
      "syntax: integrate(function,(variable,lowlimit,highlimit))\n",
      " 6      \n",
      "x  + x⋅y\n",
      "x⋅log(x) - x\n",
      "\n",
      "Definite integrals\n",
      "0\n",
      "1\n",
      "2\n",
      "1\n",
      "integrating the following function from from -infinity to infinity\n",
      "   2\n",
      " -x \n",
      "ℯ   \n",
      "gives\n",
      "√π\n"
     ]
    }
   ],
   "source": [
    "print(\"syntax: integrate(function,(variable,lowlimit,highlimit))\")\n",
    "pprint(sym.integrate(6*x**5+y,x))\n",
    "pprint(sym.integrate(sym.log(x),x))\n",
    "\n",
    "print(\"\\nDefinite integrals\")\n",
    "print(sym.integrate(x**3,(x,-1,1)))\n",
    "print(sym.integrate(sym.sin(x),(x,0,sym.pi/2)))\n",
    "print(sym.integrate((sym.cos(x)),(x,-sym.pi/2,sym.pi/2)))\n",
    "print(sym.integrate(sym.exp(-x),(x,0,sym.oo)))\n",
    "print(\"integrating the following function from from -infinity to infinity\")\n",
    "pprint(sym.exp(-x ** 2))\n",
    "print(\"gives\")\n",
    "pprint(sym.integrate(sym.exp(-x**2),(x,-sym.oo,sym.oo)))"
   ]
  },
  {
   "cell_type": "markdown",
   "metadata": {},
   "source": [
    "**Solving equations**"
   ]
  },
  {
   "cell_type": "code",
   "execution_count": 110,
   "metadata": {},
   "outputs": [
    {
     "name": "stdout",
     "output_type": "stream",
     "text": [
      "for solving algebraic equations use solveset(function,variable), for solving SLE use solve((eq1,eq2),(var1,var2))\n",
      "{-1, 1, -ⅈ, ⅈ}\n",
      "{ⅈ⋅(2⋅n⋅π + π) | n ∊ ℤ}\n",
      "{x: -3, y: 1}\n",
      "-3\n",
      "{x: -2, y: 4}\n",
      "\n",
      "factorization of a polynomial\n",
      " 4      2    \n",
      "x  - 3⋅x  + 1\n",
      "⎛ 2        ⎞ ⎛ 2        ⎞\n",
      "⎝x  - x - 1⎠⋅⎝x  + x - 1⎠\n",
      "\n",
      "Solving boolean expressions\n",
      "{x: False, y: False}\n"
     ]
    }
   ],
   "source": [
    "print(\"for solving algebraic equations use solveset(function,variable), for solving SLE use solve((eq1,eq2),(var1,var2))\")\n",
    "pprint(sym.solveset(x**4-1,x))\n",
    "pprint(sym.solveset(sym.exp(x)+1,x))\n",
    "\n",
    "sol=sym.solve((x + 5 * y - 2, -3 * x + 6 * y - 15),(x,y))\n",
    "print(sol)\n",
    "print(sol[x])\n",
    "print(sym.solve((x+y-2,2*x+y),(x,y)))\n",
    "\n",
    "print(\"\\nfactorization of a polynomial\")\n",
    "f=x**4-3*x**2+1\n",
    "pprint(f)\n",
    "pprint(sym.factor(f))\n",
    "\n",
    "print(\"\\nSolving boolean expressions\")\n",
    "pprint(sym.satisfiable((~x|y)&(~y|x)))"
   ]
  },
  {
   "cell_type": "markdown",
   "metadata": {},
   "source": [
    "**Finding the value of a function at various points**"
   ]
  },
  {
   "cell_type": "code",
   "execution_count": 101,
   "metadata": {},
   "outputs": [
    {
     "name": "stdout",
     "output_type": "stream",
     "text": [
      "      4\n",
      "-2 + ℯ \n",
      "52.5981500331442\n",
      "       8\n",
      "-11 + ℯ \n",
      "2969.95798704173\n",
      "       12\n",
      "-26 + ℯ  \n",
      "162728.791419004\n"
     ]
    }
   ],
   "source": [
    "def f(x):\n",
    "    return sym.exp(x)**4-3*x**2+1\n",
    "for i in range(1,4):\n",
    "    pprint(f(i))\n",
    "    print(f(i).evalf())"
   ]
  },
  {
   "cell_type": "markdown",
   "metadata": {},
   "source": [
    "**Linear algebra**"
   ]
  },
  {
   "cell_type": "code",
   "execution_count": 113,
   "metadata": {},
   "outputs": [
    {
     "name": "stdout",
     "output_type": "stream",
     "text": [
      "⎡1  2  3⎤\n",
      "⎢       ⎥\n",
      "⎣3  4  5⎦\n",
      "unlike a NumPy array, you can also put Symbols in it\n",
      "⎡1  x⎤\n",
      "⎢    ⎥\n",
      "⎣y  1⎦\n"
     ]
    }
   ],
   "source": [
    "A=sym.Matrix([[1,2,3],[3,4,5]])\n",
    "pprint(A)\n",
    "print(\"unlike a NumPy array, you can also put Symbols in it\")\n",
    "x,y=sym.symbols('x,y')\n",
    "A=sym.Matrix([[1,x],[y,1]])\n",
    "pprint(A)"
   ]
  },
  {
   "cell_type": "markdown",
   "metadata": {},
   "source": [
    "**Differential equations**"
   ]
  },
  {
   "cell_type": "code",
   "execution_count": 133,
   "metadata": {},
   "outputs": [
    {
     "name": "stdout",
     "output_type": "stream",
     "text": [
      "       d       \n",
      "f(x) + ──(f(x))\n",
      "       dx      \n",
      "         2      \n",
      "        d       \n",
      "f(x) + ───(f(x))\n",
      "         2      \n",
      "       dx       \n",
      "solving differential equations\n",
      "f(x) = C₁⋅sin(x) + C₂⋅cos(x)\n",
      "  d           2          \n",
      "x⋅──(f(x)) - f (x) + f(x)\n",
      "  dx                     \n",
      "         -C₁  \n",
      "f(x) = ───────\n",
      "       -C₁ + x\n"
     ]
    }
   ],
   "source": [
    "f, g = sym.symbols('f g', cls=sym.Function) #create an undefined function by passing cls=Function \n",
    "#  f(x), will represent an unknown function\n",
    "pprint(f(x).diff(x)+f(x))\n",
    "pprint(f(x).diff(x,x)+f(x))\n",
    "print(\"solving differential equations\")\n",
    "pprint(sym.dsolve(f(x).diff(x,x)+f(x),f(x)))\n",
    "# pprint(sym.dsolve(sym.sin(x) * sym.cos(f(x)) + sym.cos(x) * sym.sin(f(x)) * f(x).diff(x), f(x), hint='separable')) #solve as seperable equation\n",
    "pprint((f(x).diff(x)*x+f(x)-f(x)**2))\n",
    "pprint(sym.dsolve(f(x).diff(x)*x+f(x)-f(x)**2,f(x)))"
   ]
  }
 ],
 "metadata": {
  "kernelspec": {
   "display_name": "Python 3",
   "language": "python",
   "name": "python3"
  },
  "language_info": {
   "codemirror_mode": {
    "name": "ipython",
    "version": 3
   },
   "file_extension": ".py",
   "mimetype": "text/x-python",
   "name": "python",
   "nbconvert_exporter": "python",
   "pygments_lexer": "ipython3",
   "version": "3.8.1"
  }
 },
 "nbformat": 4,
 "nbformat_minor": 4
}
