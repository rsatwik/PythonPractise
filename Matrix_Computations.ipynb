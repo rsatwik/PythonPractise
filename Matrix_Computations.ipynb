{
 "cells": [
  {
   "cell_type": "markdown",
   "metadata": {},
   "source": [
    "**Declaring a matrix**"
   ]
  },
  {
   "cell_type": "code",
   "execution_count": 1,
   "metadata": {},
   "outputs": [
    {
     "data": {
      "text/plain": [
       "array([[  0.,   1.,   0.],\n",
       "       [  0.,   0.,   1.],\n",
       "       [ -6., -11.,  -6.]])"
      ]
     },
     "execution_count": 1,
     "metadata": {},
     "output_type": "execute_result"
    }
   ],
   "source": [
    "import numpy as np\n",
    "A=np.array([\n",
    "    [0,1.0,0],\n",
    "    [0,0,1],\n",
    "    [-6.0,-11.0,-6.0]])\n",
    "A.view()"
   ]
  },
  {
   "cell_type": "code",
   "execution_count": 2,
   "metadata": {},
   "outputs": [
    {
     "data": {
      "text/plain": [
       "array([[2.],\n",
       "       [3.],\n",
       "       [1.]])"
      ]
     },
     "execution_count": 2,
     "metadata": {},
     "output_type": "execute_result"
    }
   ],
   "source": [
    "B=np.array([\n",
    "    [2.0],\n",
    "    [3.0],\n",
    "    [1.0]\n",
    "])\n",
    "B.view()"
   ]
  },
  {
   "cell_type": "code",
   "execution_count": 3,
   "metadata": {},
   "outputs": [
    {
     "data": {
      "text/plain": [
       "array([[ 2.,  2.,  2.],\n",
       "       [-1., -1.,  0.],\n",
       "       [-2., -1., -1.]])"
      ]
     },
     "execution_count": 3,
     "metadata": {},
     "output_type": "execute_result"
    }
   ],
   "source": [
    "C=np.array([\n",
    "    [2.0,2.0,2.0],\n",
    "    [-1.0,-1.0,0],\n",
    "    [-2.0,-1.0,-1.0]\n",
    "])\n",
    "C.view()"
   ]
  },
  {
   "cell_type": "markdown",
   "metadata": {},
   "source": [
    "**Properties of matrices**"
   ]
  },
  {
   "cell_type": "code",
   "execution_count": 4,
   "metadata": {},
   "outputs": [
    {
     "name": "stdout",
     "output_type": "stream",
     "text": [
      "Shape of A = (3, 3)\n",
      "Shape of B = (3, 1)\n",
      "Determinant of A = -6.0\n",
      "Determinant of C = -2.0\n",
      "Trace of A = -6.0\n",
      "Trace of C = 0.0\n",
      "Rank of A = 3\n",
      "Rank of B = 1\n",
      "Transpose of C\n",
      " [[ 2. -1. -2.]\n",
      " [ 2. -1. -1.]\n",
      " [ 2.  0. -1.]]\n"
     ]
    }
   ],
   "source": [
    "print(\"Shape of A =\",A.shape)\n",
    "print(\"Shape of B =\",B.shape)\n",
    "print(\"Determinant of A =\",np.linalg.det(A))\n",
    "print(\"Determinant of C =\",np.linalg.det(C))\n",
    "print(\"Trace of A =\",np.trace(A))\n",
    "print(\"Trace of C =\",np.trace(C))\n",
    "print(\"Rank of A =\",np.linalg.matrix_rank(A))\n",
    "print(\"Rank of B =\",np.linalg.matrix_rank(B))\n",
    "print(\"Transpose of C\\n\",C.T.view())"
   ]
  },
  {
   "cell_type": "markdown",
   "metadata": {},
   "source": [
    "**Matrix Multiplication**"
   ]
  },
  {
   "cell_type": "code",
   "execution_count": 5,
   "metadata": {},
   "outputs": [
    {
     "name": "stdout",
     "output_type": "stream",
     "text": [
      "Product\n",
      "[[-1. -1.  0.]\n",
      " [-2. -1. -1.]\n",
      " [11.  5. -6.]]\n",
      "Determinant of product = 12.0\n"
     ]
    }
   ],
   "source": [
    "P=np.matmul(A,C)\n",
    "print(\"Product\")\n",
    "print(P.view())\n",
    "print(\"Determinant of product =\",np.linalg.det(P))"
   ]
  },
  {
   "cell_type": "markdown",
   "metadata": {},
   "source": [
    "**Testing properties of matrices**"
   ]
  },
  {
   "cell_type": "code",
   "execution_count": 52,
   "metadata": {},
   "outputs": [
    {
     "name": "stdout",
     "output_type": "stream",
     "text": [
      "A\n",
      " [[1. 2. 4.]\n",
      " [3. 2. 1.]\n",
      " [4. 5. 6.]]\n",
      "determinant of A: 6.999999999999999\n",
      "B\n",
      " [[1. 2. 1.]\n",
      " [1. 1. 1.]\n",
      " [3. 2. 1.]]\n",
      "determinant of B: 2.0000000000000004\n",
      "detA-detB: 4.999999999999998\n",
      "det(A-B): 15.000000000000007\n",
      "A-B\n",
      " [[0. 0. 3.]\n",
      " [2. 1. 0.]\n",
      " [1. 3. 5.]]\n",
      "detAB:  14.000000000000078\n",
      "detBA: 13.999999999999966\n",
      "TraceAB 40.0\n",
      "TraceBA: 40.0\n",
      "observation: the determinant calculations have more errors compared to the trace calculations\n"
     ]
    }
   ],
   "source": [
    "import numpy.linalg as l\n",
    "A=np.array([[1.,2,4],[3,2,1],[4,5,6]])\n",
    "print(\"A\\n\",A.view())\n",
    "print(\"determinant of A:\",l.det(A))\n",
    "B=np.array([[1.,2,1],[1,1,1],[3,2,1]])\n",
    "print(\"B\\n\",B.view())\n",
    "print(\"determinant of B:\",l.det(B))\n",
    "print(\"detA-detB:\",l.det(A)-l.det(B))\n",
    "print(\"det(A-B):\",l.det(A-B))\n",
    "print(\"A-B\\n\",(A-B).view())\n",
    "print(\"detAB: \",l.det(np.matmul(A,B)))\n",
    "print(\"detBA:\",l.det(np.matmul(B,A)))\n",
    "print(\"TraceAB\",np.trace(np.matmul(A,B)))\n",
    "print(\"TraceBA:\",np.trace(np.matmul(B,A)))\n",
    "print(\"observation: the determinant calculations have more errors compared to the trace calculations\")"
   ]
  },
  {
   "cell_type": "markdown",
   "metadata": {},
   "source": [
    "**Inverse of Matrix**"
   ]
  },
  {
   "cell_type": "code",
   "execution_count": 8,
   "metadata": {},
   "outputs": [
    {
     "name": "stdout",
     "output_type": "stream",
     "text": [
      "[[ 1.          1.14285714 -0.85714286]\n",
      " [-2.         -1.42857143  1.57142857]\n",
      " [ 1.          0.42857143 -0.57142857]]\n",
      "check A*Ainv=I\n",
      "[[1.00000000e+00 2.22044605e-16 0.00000000e+00]\n",
      " [0.00000000e+00 1.00000000e+00 2.22044605e-16]\n",
      " [0.00000000e+00 0.00000000e+00 1.00000000e+00]]\n"
     ]
    }
   ],
   "source": [
    "Ainv=np.linalg.inv(A)\n",
    "print(Ainv)\n",
    "print(\"check A*Ainv=I\")\n",
    "print(np.matmul(A,Ainv))"
   ]
  },
  {
   "cell_type": "markdown",
   "metadata": {},
   "source": [
    "**Making an integer matrix whose inverse also contains integers** "
   ]
  },
  {
   "cell_type": "code",
   "execution_count": 9,
   "metadata": {},
   "outputs": [
    {
     "name": "stdout",
     "output_type": "stream",
     "text": [
      "A\n",
      " [[ 1  2  4]\n",
      " [ 0  1  1]\n",
      " [ 0  0 -1]]\n",
      "determinant of A: -1.0\n",
      "performing column operations: Adding column 3 to columns 1 and 2\n",
      "A\n",
      " [[ 5  6  4]\n",
      " [ 1  2  1]\n",
      " [-1 -1 -1]]\n",
      "determinant of A: -0.9999999999999998\n",
      "Inv_A\n",
      " [[ 1. -2.  2.]\n",
      " [ 0.  1.  1.]\n",
      " [-1.  1. -4.]]\n"
     ]
    }
   ],
   "source": [
    "import numpy as np\n",
    "import numpy.linalg as l\n",
    "A=np.array([[1,2,4],[0,1,1],[0,0,-1]])\n",
    "print(\"A\\n\",A.view())\n",
    "print(\"determinant of A:\",l.det(A))\n",
    "print(\"performing column operations: Adding column 3 to columns 1 and 2\")\n",
    "for i in range(0,3):\n",
    "    A[i,0]+=A[i,2]\n",
    "    A[i,1]+=A[i,2]\n",
    "print(\"A\\n\",A.view())\n",
    "print(\"determinant of A:\",l.det(A))\n",
    "print(\"Inv_A\\n\",l.inv(A))"
   ]
  },
  {
   "cell_type": "markdown",
   "metadata": {},
   "source": [
    "**Creating triagonal matrices**"
   ]
  },
  {
   "cell_type": "code",
   "execution_count": 10,
   "metadata": {},
   "outputs": [
    {
     "name": "stdout",
     "output_type": "stream",
     "text": [
      "A\n",
      " [[1. 2. 0. 0.]\n",
      " [1. 2. 1. 0.]\n",
      " [0. 3. 1. 2.]\n",
      " [0. 0. 1. 2.]]\n"
     ]
    }
   ],
   "source": [
    "A1=np.diag([1.,2,1,2]) # main diagonal\n",
    "A2=np.diag([1,3,1],-1)\n",
    "A3=np.diag([2,1,2],1)\n",
    "A=A1+A2+A3\n",
    "print(\"A\\n\",A.view())"
   ]
  },
  {
   "cell_type": "markdown",
   "metadata": {},
   "source": [
    "**Calculating roots of characteristic equation using symbolic toolbox** "
   ]
  },
  {
   "cell_type": "code",
   "execution_count": 7,
   "metadata": {},
   "outputs": [
    {
     "name": "stdout",
     "output_type": "stream",
     "text": [
      "1/2\n"
     ]
    }
   ],
   "source": []
  },
  {
   "cell_type": "markdown",
   "metadata": {},
   "source": [
    "**Eigenvalues and eigenvectors**"
   ]
  },
  {
   "cell_type": "code",
   "execution_count": 11,
   "metadata": {},
   "outputs": [
    {
     "name": "stdout",
     "output_type": "stream",
     "text": [
      "Eigenvalues= [-1.07337936  0.56313359  4.07337936  2.43686641]\n",
      "Eigenvectors\n",
      "[[ 0.36860726  0.75667889 -0.32875614 -0.47384813]\n",
      " [-0.38213134 -0.1652838  -0.50519616 -0.34042823]\n",
      " [ 0.80582732 -0.51918815 -0.71870716  0.32512647]\n",
      " [-0.26219585  0.36133363 -0.34663563  0.74422399]]\n"
     ]
    }
   ],
   "source": [
    "[W,V]=np.linalg.eig(A)\n",
    "print(\"Eigenvalues=\",W)\n",
    "print(\"Eigenvectors\")\n",
    "#V=np.round(V)\n",
    "print(V.view())\n",
    "# print(\"check\")\n",
    "# M=np.matmul(A,V)\n",
    "# print(np.matmul(V.T,M))"
   ]
  },
  {
   "cell_type": "markdown",
   "metadata": {},
   "source": [
    "**Solving LX=B using Forward substitution**"
   ]
  },
  {
   "cell_type": "code",
   "execution_count": 12,
   "metadata": {},
   "outputs": [
    {
     "name": "stdout",
     "output_type": "stream",
     "text": [
      "L\n",
      "[[1. 0. 0.]\n",
      " [2. 3. 0.]\n",
      " [1. 2. 3.]]\n",
      "B\n",
      "[[2.]\n",
      " [3.]\n",
      " [1.]]\n",
      "Forward Substitution\n",
      "[[ 2.        ]\n",
      " [-0.33333333]\n",
      " [-0.11111111]]\n"
     ]
    }
   ],
   "source": [
    "print(\"L\")\n",
    "L=np.array([\n",
    "    [1.0,0,0],\n",
    "    [2.0,3.0,0],\n",
    "    [1.0,2.0,3.0]])\n",
    "print(L)\n",
    "print(\"B\")\n",
    "B=np.array([\n",
    "    [2.0],\n",
    "    [3.0],\n",
    "    [1.0]\n",
    "])\n",
    "print(B)\n",
    "print(\"Forward Substitution\")\n",
    "[r,c]=L.shape\n",
    "for i in range(0,r):\n",
    "    for j in range(0,i):\n",
    "        B[i]=B[i]-(L[i,j]*B[j])\n",
    "    B[i]=B[i]/L[i,i]\n",
    "\n",
    "print(B)"
   ]
  },
  {
   "cell_type": "markdown",
   "metadata": {},
   "source": [
    "**Converting AX=B to UX=B' using Multipliers**\n",
    "1. $M^{-1}$ inverse is not exaclty $-M$. The diagonal elements remain 1 whereas sign change occurs to the rest of the elements "
   ]
  },
  {
   "cell_type": "code",
   "execution_count": 13,
   "metadata": {},
   "outputs": [
    {
     "name": "stdout",
     "output_type": "stream",
     "text": [
      "AX=B\n",
      "A\n",
      "[[ 2.  1.  1.]\n",
      " [ 2.  2. -1.]\n",
      " [ 4. -1.  6.]]\n",
      "B\n",
      "[[ 9.]\n",
      " [ 9.]\n",
      " [16.]]\n",
      "Lower triangular matrix L\n",
      "L\n",
      "[[ 1.  0.  0.]\n",
      " [ 1.  1.  0.]\n",
      " [ 2. -3.  1.]]\n",
      "Now L inverse is the multiplier matrix\n",
      "M\n",
      "[[ 1.  0.  0.]\n",
      " [-1.  1.  0.]\n",
      " [-5.  3.  1.]]\n",
      "check: MA should give us an upper triangular matrix\n",
      "U\n",
      "[[ 2.0000000e+00  1.0000000e+00  1.0000000e+00]\n",
      " [ 0.0000000e+00  1.0000000e+00 -2.0000000e+00]\n",
      " [ 0.0000000e+00  8.8817842e-16 -2.0000000e+00]]\n",
      "check: LU should give us back A matrix\n",
      "LU\n",
      "[[ 2.  1.  1.]\n",
      " [ 2.  2. -1.]\n",
      " [ 4. -1.  6.]]\n"
     ]
    }
   ],
   "source": [
    "import numpy as np\n",
    "print(\"AX=B\")\n",
    "print(\"A\")\n",
    "A=np.array([\n",
    "    [2.0,1.0,1.0],\n",
    "    [2.0,2.0,-1],\n",
    "    [4.0,-1.0,6.0]\n",
    "])\n",
    "print(A)\n",
    "print(\"B\")\n",
    "B=np.array([\n",
    "    [9.0],\n",
    "    [9.0],\n",
    "    [16.0]\n",
    "])\n",
    "print(B)\n",
    "print(\"Lower triangular matrix L\")\n",
    "L=np.array([\n",
    "    [1.0,0,0],\n",
    "    [1,1.0,0],\n",
    "    [2.0,-3,1.0]\n",
    "])\n",
    "print(\"L\")\n",
    "print(L)\n",
    "print(\"Now L inverse is the multiplier matrix\")\n",
    "print(\"M\")\n",
    "M=np.linalg.inv(L)\n",
    "print(M)\n",
    "print(\"check: MA should give us an upper triangular matrix\")\n",
    "U=np.matmul(M,A)\n",
    "print(\"U\")\n",
    "print(U)\n",
    "print(\"check: LU should give us back A matrix\")\n",
    "print(\"LU\")\n",
    "print(np.matmul(L,U))"
   ]
  },
  {
   "cell_type": "markdown",
   "metadata": {},
   "source": [
    "**LU Decomposition with pivoting**"
   ]
  },
  {
   "cell_type": "code",
   "execution_count": 14,
   "metadata": {},
   "outputs": [
    {
     "name": "stdout",
     "output_type": "stream",
     "text": [
      "AX=B\n",
      "A\n",
      "[[ 2.  1.  1.]\n",
      " [ 2.  1. -1.]\n",
      " [ 4. -1.  6.]]\n",
      "B\n",
      "[[ 9.]\n",
      " [ 9.]\n",
      " [16.]]\n",
      "Pivoting matrix\n",
      "P\n",
      "[[0 0 1]\n",
      " [0 1 0]\n",
      " [1 0 0]]\n",
      "PA\n",
      "[[ 4. -1.  6.]\n",
      " [ 2.  1. -1.]\n",
      " [ 2.  1.  1.]]\n",
      "PB\n",
      "Lower triangular matrix L\n",
      "L\n",
      "[[1.  0.  0. ]\n",
      " [0.5 1.  0. ]\n",
      " [0.5 1.  1. ]]\n",
      "Now L inverse is the multiplier matrix\n",
      "M\n",
      "[[ 1.   0.   0. ]\n",
      " [-0.5  1.   0. ]\n",
      " [ 0.  -1.   1. ]]\n",
      "check: MA should give us an upper triangular matrix\n",
      "U\n",
      "[[ 4.  -1.   6. ]\n",
      " [ 0.   1.5 -4. ]\n",
      " [ 0.   0.   2. ]]\n",
      "check: LU should give us back A matrix\n",
      "LU\n",
      "[[ 4. -1.  6.]\n",
      " [ 2.  1. -1.]\n",
      " [ 2.  1.  1.]]\n"
     ]
    }
   ],
   "source": [
    "import numpy as np\n",
    "print(\"AX=B\")\n",
    "print(\"A\")\n",
    "A=np.array([\n",
    "    [2.0,1.0,1.0],\n",
    "    [2.0,1.0,-1],\n",
    "    [4.0,-1.0,6.0]\n",
    "])\n",
    "print(A)\n",
    "print(\"B\")\n",
    "B=np.array([\n",
    "    [9.0],\n",
    "    [9.0],\n",
    "    [16.0]\n",
    "])\n",
    "print(B)\n",
    "print(\"Pivoting matrix\")\n",
    "print(\"P\")\n",
    "P=np.array([[0,0,1],\n",
    "            [0,1,0],\n",
    "            [1,0,0]])\n",
    "print(P)\n",
    "print(\"PA\")\n",
    "A=np.matmul(P,A)\n",
    "print(A)\n",
    "print(\"PB\")\n",
    "B=np.matmul(P,B)\n",
    "print(\"Lower triangular matrix L\")\n",
    "L=np.array([\n",
    "    [1,0,0],\n",
    "    [0.5,1.0,0],\n",
    "    [0.5,1,1.0]\n",
    "])\n",
    "print(\"L\")\n",
    "print(L)\n",
    "print(\"Now L inverse is the multiplier matrix\")\n",
    "print(\"M\")\n",
    "M=np.linalg.inv(L)\n",
    "print(M)\n",
    "print(\"check: MA should give us an upper triangular matrix\")\n",
    "U=np.matmul(M,A)\n",
    "print(\"U\")\n",
    "print(U)\n",
    "print(\"check: LU should give us back A matrix\")\n",
    "print(\"LU\")\n",
    "print(np.matmul(L,U))"
   ]
  },
  {
   "cell_type": "markdown",
   "metadata": {},
   "source": [
    "**LDV decomposition**"
   ]
  },
  {
   "cell_type": "code",
   "execution_count": 15,
   "metadata": {},
   "outputs": [
    {
     "name": "stdout",
     "output_type": "stream",
     "text": [
      "AX=B\n",
      "A\n",
      "[[ 2.  1.  1.]\n",
      " [ 2.  2. -1.]\n",
      " [ 4. -1.  6.]]\n",
      "B\n",
      "[[ 9.]\n",
      " [ 9.]\n",
      " [16.]]\n",
      "Lower triangular matrix L\n",
      "L\n",
      "[[ 1.  0.  0.]\n",
      " [ 1.  1.  0.]\n",
      " [ 2. -3.  1.]]\n",
      "Now L inverse is the multiplier matrix\n",
      "M\n",
      "[[ 1.  0.  0.]\n",
      " [-1.  1.  0.]\n",
      " [-5.  3.  1.]]\n",
      "check: MA should give us an upper triangular matrix\n",
      "U\n",
      "[[ 2.0000000e+00  1.0000000e+00  1.0000000e+00]\n",
      " [ 0.0000000e+00  1.0000000e+00 -2.0000000e+00]\n",
      " [ 0.0000000e+00  8.8817842e-16 -2.0000000e+00]]\n",
      "check: LU should give us back A matrix\n",
      "LU\n",
      "[[ 2.  1.  1.]\n",
      " [ 2.  2. -1.]\n",
      " [ 4. -1.  6.]]\n",
      "U=DV\n",
      "U\n",
      "[[ 2.  1.  1.]\n",
      " [ 0.  1. -2.]\n",
      " [ 0.  0. -2.]]\n",
      "L\n",
      "[[ 1.  0.  0.]\n",
      " [ 1.  1.  0.]\n",
      " [ 2. -3.  1.]]\n",
      "D\n",
      "[[ 2.  0.  0.]\n",
      " [ 0.  1.  0.]\n",
      " [ 0.  0. -2.]]\n",
      "V\n",
      "[[ 1.   0.5  0.5]\n",
      " [ 0.   1.  -2. ]\n",
      " [ 0.   0.   1. ]]\n",
      "check:DV must give U\n",
      "DV\n",
      "[[ 2.  1.  1.]\n",
      " [ 0.  1. -2.]\n",
      " [ 0.  0. -2.]]\n"
     ]
    }
   ],
   "source": [
    "import numpy as np\n",
    "print(\"AX=B\")\n",
    "print(\"A\")\n",
    "A=np.array([\n",
    "    [2.0,1.0,1.0],\n",
    "    [2.0,2.0,-1],\n",
    "    [4.0,-1.0,6.0]\n",
    "])\n",
    "print(A)\n",
    "print(\"B\")\n",
    "B=np.array([\n",
    "    [9.0],\n",
    "    [9.0],\n",
    "    [16.0]\n",
    "])\n",
    "print(B)\n",
    "print(\"Lower triangular matrix L\")\n",
    "L=np.array([\n",
    "    [1.0,0,0],\n",
    "    [1,1.0,0],\n",
    "    [2.0,-3,1.0]\n",
    "])\n",
    "print(\"L\")\n",
    "print(L)\n",
    "print(\"Now L inverse is the multiplier matrix\")\n",
    "print(\"M\")\n",
    "M=np.linalg.inv(L)\n",
    "print(M)\n",
    "print(\"check: MA should give us an upper triangular matrix\")\n",
    "U=np.matmul(M,A)\n",
    "print(\"U\")\n",
    "print(U)\n",
    "print(\"check: LU should give us back A matrix\")\n",
    "print(\"LU\")\n",
    "print(np.matmul(L,U))\n",
    "print(\"U=DV\")\n",
    "print(\"U\")\n",
    "U=np.array([\n",
    "    [2.0,1.0,1.0],\n",
    "    [0,1.0,-2],\n",
    "    [0,0,-2.0]\n",
    "])\n",
    "print(U)\n",
    "print(\"L\")\n",
    "print(L)\n",
    "print(\"D\") # D is obtained by taking the diagnol element common in the U matrix\n",
    "D=np.array([[2.0,0,0],\n",
    "            [0,1.0,0],\n",
    "            [0,0,-2.0]])\n",
    "print(D)\n",
    "print(\"V\")\n",
    "V=np.array([[1,0.5,0.5],\n",
    "            [0,1,-2],\n",
    "            [0,0,1]])\n",
    "print(V)\n",
    "print(\"check:DV must give U\")\n",
    "print(\"DV\")\n",
    "print(np.matmul(D,V))"
   ]
  },
  {
   "cell_type": "markdown",
   "metadata": {},
   "source": [
    "**Cholesky decomposition**"
   ]
  },
  {
   "cell_type": "code",
   "execution_count": 16,
   "metadata": {},
   "outputs": [
    {
     "name": "stdout",
     "output_type": "stream",
     "text": [
      "A\n",
      "[[ 4. -2.  4.  2.]\n",
      " [-2. 10. -2. -7.]\n",
      " [ 4. -2.  8.  4.]\n",
      " [ 2. -7.  4.  7.]]\n",
      "cholesky factor R\n",
      "[[ 2. -1.  2.  1.]\n",
      " [ 0.  3.  0. -2.]\n",
      " [ 0.  0.  2.  1.]\n",
      " [ 0.  0.  0.  1.]]\n",
      "check: R transpose R must give us A\n",
      "[[ 4. -2.  4.  2.]\n",
      " [-2. 10. -2. -7.]\n",
      " [ 4. -2.  8.  4.]\n",
      " [ 2. -7.  4.  7.]]\n"
     ]
    }
   ],
   "source": [
    "import numpy as np\n",
    "A=np.array([[4.0,-2.0,4.0,2.0],\n",
    "            [-2,10,-2,-7],\n",
    "            [4,-2,8,4],\n",
    "            [2,-7,4,7]])\n",
    "print(\"A\")\n",
    "print(A)\n",
    "print(\"cholesky factor R\")\n",
    "R=np.array([[2.0,-1,2,1],\n",
    "            [0,3,0,-2],\n",
    "            [0,0,2,1],\n",
    "            [0,0,0,1.0]])\n",
    "print(R)\n",
    "print(\"check: R transpose R must give us A\")\n",
    "print(np.matmul(R.T,R))"
   ]
  },
  {
   "cell_type": "markdown",
   "metadata": {},
   "source": [
    "**Vector norms**"
   ]
  },
  {
   "cell_type": "code",
   "execution_count": 17,
   "metadata": {},
   "outputs": [
    {
     "name": "stdout",
     "output_type": "stream",
     "text": [
      "A\n",
      "[[1]\n",
      " [2]\n",
      " [1]]\n",
      "One norm or Taxi-norm of A: [4]\n",
      "Two norm of A: [2.44948974]\n",
      "Infinity norm of A: [2]\n",
      "Infact these norms are same for [1 2 1]* or [1 -2 1]*\n"
     ]
    }
   ],
   "source": [
    "A=np.array([\n",
    "    [1],[2],[1]\n",
    "])\n",
    "print(\"A\")\n",
    "print(A)\n",
    "\n",
    "acc=0\n",
    "for i in A:\n",
    "    acc = acc + abs(i)\n",
    "print(\"One norm or Taxi-norm of A:\",acc)\n",
    "\n",
    "acc=0\n",
    "for i in A:\n",
    "    acc=acc+pow(i,2)\n",
    "acc=np.sqrt(acc)\n",
    "print(\"Two norm of A:\",acc)\n",
    "\n",
    "acc=abs(A[0])\n",
    "for i in A:\n",
    "    if(acc<abs(i)):\n",
    "        acc=abs(i)\n",
    "print(\"Infinity norm of A:\",acc)\n",
    "\n",
    "print(\"Infact these norms are same for [1 2 1]* or [1 -2 1]*\")"
   ]
  },
  {
   "cell_type": "markdown",
   "metadata": {},
   "source": [
    "**Induced norms or Matrix norms**"
   ]
  },
  {
   "cell_type": "code",
   "execution_count": 18,
   "metadata": {},
   "outputs": [
    {
     "ename": "IndentationError",
     "evalue": "unexpected indent (<ipython-input-18-745ffbe1b264>, line 7)",
     "output_type": "error",
     "traceback": [
      "\u001b[1;36m  File \u001b[1;32m\"<ipython-input-18-745ffbe1b264>\"\u001b[1;36m, line \u001b[1;32m7\u001b[0m\n\u001b[1;33m    print(\"One norm of A:\")\u001b[0m\n\u001b[1;37m    ^\u001b[0m\n\u001b[1;31mIndentationError\u001b[0m\u001b[1;31m:\u001b[0m unexpected indent\n"
     ]
    }
   ],
   "source": [
    "A=np.array([\n",
    "    [1,2,3],\n",
    "    [3,2,1],\n",
    "    [4,1,2]\n",
    "])\n",
    "\n",
    " print(\"One norm of A:\")"
   ]
  },
  {
   "cell_type": "code",
   "execution_count": null,
   "metadata": {},
   "outputs": [],
   "source": []
  }
 ],
 "metadata": {
  "kernelspec": {
   "display_name": "Python 3",
   "language": "python",
   "name": "python3"
  },
  "language_info": {
   "codemirror_mode": {
    "name": "ipython",
    "version": 3
   },
   "file_extension": ".py",
   "mimetype": "text/x-python",
   "name": "python",
   "nbconvert_exporter": "python",
   "pygments_lexer": "ipython3",
   "version": "3.8.1"
  }
 },
 "nbformat": 4,
 "nbformat_minor": 4
}
