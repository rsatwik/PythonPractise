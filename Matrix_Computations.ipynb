{
 "cells": [
  {
   "cell_type": "markdown",
   "metadata": {},
   "source": [
    "**Declaring a matrix**"
   ]
  },
  {
   "cell_type": "code",
   "execution_count": 92,
   "metadata": {},
   "outputs": [
    {
     "data": {
      "text/plain": [
       "array([[  0.,   1.,   0.],\n",
       "       [  0.,   0.,   1.],\n",
       "       [ -6., -11.,  -6.]])"
      ]
     },
     "execution_count": 92,
     "metadata": {},
     "output_type": "execute_result"
    }
   ],
   "source": [
    "import numpy as np\n",
    "A=np.array([\n",
    "    [0,1.0,0],\n",
    "    [0,0,1],\n",
    "    [-6.0,-11.0,-6.0]])\n",
    "A.view()"
   ]
  },
  {
   "cell_type": "code",
   "execution_count": 93,
   "metadata": {},
   "outputs": [
    {
     "data": {
      "text/plain": [
       "array([[2.],\n",
       "       [3.],\n",
       "       [1.]])"
      ]
     },
     "execution_count": 93,
     "metadata": {},
     "output_type": "execute_result"
    }
   ],
   "source": [
    "B=np.array([\n",
    "    [2.0],\n",
    "    [3.0],\n",
    "    [1.0]\n",
    "])\n",
    "B.view()"
   ]
  },
  {
   "cell_type": "code",
   "execution_count": 94,
   "metadata": {},
   "outputs": [
    {
     "data": {
      "text/plain": [
       "array([[ 2.,  2.,  2.],\n",
       "       [-1., -1.,  0.],\n",
       "       [-2., -1., -1.]])"
      ]
     },
     "execution_count": 94,
     "metadata": {},
     "output_type": "execute_result"
    }
   ],
   "source": [
    "C=np.array([\n",
    "    [2.0,2.0,2.0],\n",
    "    [-1.0,-1.0,0],\n",
    "    [-2.0,-1.0,-1.0]\n",
    "])\n",
    "C.view()"
   ]
  },
  {
   "cell_type": "markdown",
   "metadata": {},
   "source": [
    "**Properties of matrices**"
   ]
  },
  {
   "cell_type": "code",
   "execution_count": 95,
   "metadata": {},
   "outputs": [
    {
     "name": "stdout",
     "output_type": "stream",
     "text": [
      "Shape of A = (3, 3)\n",
      "Shape of B = (3, 1)\n",
      "Determinant of A = -6.0\n",
      "Determinant of C = -2.0\n",
      "Trace of A = -6.0\n",
      "Trace of C = 0.0\n",
      "Rank of A = 3\n",
      "Rank of B = 1\n",
      "Transpose of C\n",
      " [[ 2. -1. -2.]\n",
      " [ 2. -1. -1.]\n",
      " [ 2.  0. -1.]]\n"
     ]
    }
   ],
   "source": [
    "print(\"Shape of A =\",A.shape)\n",
    "print(\"Shape of B =\",B.shape)\n",
    "print(\"Determinant of A =\",np.linalg.det(A))\n",
    "print(\"Determinant of C =\",np.linalg.det(C))\n",
    "print(\"Trace of A =\",np.trace(A))\n",
    "print(\"Trace of C =\",np.trace(C))\n",
    "print(\"Rank of A =\",np.linalg.matrix_rank(A))\n",
    "print(\"Rank of B =\",np.linalg.matrix_rank(B))\n",
    "print(\"Transpose of C\\n\",C.T.view())"
   ]
  },
  {
   "cell_type": "markdown",
   "metadata": {},
   "source": [
    "**Matrix Multiplication**"
   ]
  },
  {
   "cell_type": "code",
   "execution_count": 96,
   "metadata": {},
   "outputs": [
    {
     "name": "stdout",
     "output_type": "stream",
     "text": [
      "Product\n",
      "[[-1. -1.  0.]\n",
      " [-2. -1. -1.]\n",
      " [11.  5. -6.]]\n",
      "Determinant of product = 12.0\n"
     ]
    }
   ],
   "source": [
    "P=np.matmul(A,C)\n",
    "print(\"Product\")\n",
    "print(P.view())\n",
    "print(\"Determinant of product =\",np.linalg.det(P))"
   ]
  },
  {
   "cell_type": "markdown",
   "metadata": {},
   "source": [
    "**Testing properties of matrices**"
   ]
  },
  {
   "cell_type": "code",
   "execution_count": 97,
   "metadata": {},
   "outputs": [
    {
     "name": "stdout",
     "output_type": "stream",
     "text": [
      "A\n",
      " [[1. 2. 4.]\n",
      " [3. 2. 1.]\n",
      " [4. 5. 6.]]\n",
      "determinant of A: 6.999999999999999\n",
      "B\n",
      " [[1. 2. 1.]\n",
      " [1. 1. 1.]\n",
      " [3. 2. 1.]]\n",
      "determinant of B: 2.0000000000000004\n",
      "detA-detB: 4.999999999999998\n",
      "det(A-B): 15.000000000000007\n",
      "A-B\n",
      " [[0. 0. 3.]\n",
      " [2. 1. 0.]\n",
      " [1. 3. 5.]]\n",
      "detAB:  14.000000000000078\n",
      "detBA: 13.999999999999966\n",
      "TraceAB 40.0\n",
      "TraceBA: 40.0\n",
      "observation: the determinant calculations have more errors compared to the trace calculations\n"
     ]
    }
   ],
   "source": [
    "import numpy.linalg as l\n",
    "A=np.array([[1.,2,4],[3,2,1],[4,5,6]])\n",
    "print(\"A\\n\",A.view())\n",
    "print(\"determinant of A:\",l.det(A))\n",
    "B=np.array([[1.,2,1],[1,1,1],[3,2,1]])\n",
    "print(\"B\\n\",B.view())\n",
    "print(\"determinant of B:\",l.det(B))\n",
    "print(\"detA-detB:\",l.det(A)-l.det(B))\n",
    "print(\"det(A-B):\",l.det(A-B))\n",
    "print(\"A-B\\n\",(A-B).view())\n",
    "print(\"detAB: \",l.det(np.matmul(A,B)))\n",
    "print(\"detBA:\",l.det(np.matmul(B,A)))\n",
    "print(\"TraceAB\",np.trace(np.matmul(A,B)))\n",
    "print(\"TraceBA:\",np.trace(np.matmul(B,A)))\n",
    "print(\"observation: the determinant calculations have more errors compared to the trace calculations\")"
   ]
  },
  {
   "cell_type": "markdown",
   "metadata": {},
   "source": [
    "**Inverse of Matrix**"
   ]
  },
  {
   "cell_type": "code",
   "execution_count": 98,
   "metadata": {},
   "outputs": [
    {
     "name": "stdout",
     "output_type": "stream",
     "text": [
      "[[ 1.          1.14285714 -0.85714286]\n",
      " [-2.         -1.42857143  1.57142857]\n",
      " [ 1.          0.42857143 -0.57142857]]\n",
      "check A*Ainv=I\n",
      "[[1. 0. 0.]\n",
      " [0. 1. 0.]\n",
      " [0. 0. 1.]]\n"
     ]
    }
   ],
   "source": [
    "Ainv=np.linalg.inv(A)\n",
    "print(Ainv)\n",
    "print(\"check A*Ainv=I\")\n",
    "print(np.around(np.matmul(A,Ainv),6))"
   ]
  },
  {
   "cell_type": "markdown",
   "metadata": {},
   "source": [
    "**Making an integer matrix whose inverse also contains integers** "
   ]
  },
  {
   "cell_type": "code",
   "execution_count": 3,
   "metadata": {},
   "outputs": [
    {
     "name": "stdout",
     "output_type": "stream",
     "text": [
      "U\n",
      " [[ 1.  2.  4.]\n",
      " [ 0.  1.  1.]\n",
      " [ 0.  0. -1.]]\n",
      "determinant of U: -1.0\n",
      "performing column operations: Adding column 3 to columns 1 and 2\n",
      "A\n",
      " [[ 5.  6.  4.]\n",
      " [ 1.  2.  1.]\n",
      " [-1. -1. -1.]]\n",
      "determinant of A: -0.9999999999999998\n",
      "Inv_A\n",
      " [[ 1. -2.  2.]\n",
      " [ 0.  1.  1.]\n",
      " [-1.  1. -4.]]\n"
     ]
    }
   ],
   "source": [
    "import numpy as np\n",
    "import numpy.linalg as l\n",
    "A=np.array([[1.,2,4],[0,1,1],[0,0,-1]])\n",
    "print(\"U\\n\",A.view())\n",
    "print(\"determinant of U:\",l.det(A))\n",
    "print(\"performing column operations: Adding column 3 to columns 1 and 2\")\n",
    "for i in range(0,3):\n",
    "    A[i,0]+=A[i,2]\n",
    "    A[i,1]+=A[i,2]\n",
    "print(\"A\\n\",A.view())\n",
    "print(\"determinant of A:\",l.det(A))\n",
    "print(\"Inv_A\\n\",l.inv(A))"
   ]
  },
  {
   "cell_type": "markdown",
   "metadata": {},
   "source": [
    "**Creating triagonal matrices**"
   ]
  },
  {
   "cell_type": "code",
   "execution_count": 100,
   "metadata": {},
   "outputs": [
    {
     "name": "stdout",
     "output_type": "stream",
     "text": [
      "A\n",
      " [[1. 2. 0. 0.]\n",
      " [1. 2. 1. 0.]\n",
      " [0. 3. 1. 2.]\n",
      " [0. 0. 1. 2.]]\n"
     ]
    }
   ],
   "source": [
    "A1=np.diag([1.,2,1,2]) # main diagonal\n",
    "A2=np.diag([1,3,1],-1)\n",
    "A3=np.diag([2,1,2],1)\n",
    "A=A1+A2+A3\n",
    "print(\"A\\n\",A.view())"
   ]
  },
  {
   "cell_type": "markdown",
   "metadata": {},
   "source": [
    "**Characteristic equation of a matrix, Eigenvalues, Eigenvectors** "
   ]
  },
  {
   "cell_type": "code",
   "execution_count": 4,
   "metadata": {},
   "outputs": [
    {
     "name": "stdout",
     "output_type": "stream",
     "text": [
      "A:\n",
      " [[-5.  2.  0.]\n",
      " [ 0.  1.  0.]\n",
      " [ 2. -1.  1.]]\n",
      "\n",
      "CE: In the order of highest power to lower power\n",
      "[ 1.  3. -9.  5.]\n",
      "\n",
      "Roots of CE\n",
      "eigenvalue 0 : (-5+0j)\n",
      "eigenvalue 1 : (1+0j)\n",
      "eigenvalue 2 : (1-0j)\n",
      "\n",
      "Solving for eigenvectors\n",
      "eigenvector corresponding to 0 eigenvalue:\n",
      "[]\n",
      "eigenvector corresponding to 1 eigenvalue:\n",
      "[[-0.-0.j]\n",
      " [-0.-0.j]\n",
      " [-0.-1.j]]\n",
      "eigenvector corresponding to 2 eigenvalue:\n",
      "[[-0.-0.j]\n",
      " [-0.+0.j]\n",
      " [-0.+1.j]]\n"
     ]
    }
   ],
   "source": [
    "# from sympy import pprint\n",
    "import scipy.linalg as la \n",
    "A=np.matrix([[-5.,2,0],[0,1,0],[2,-1,1]])\n",
    "print(\"A:\\n\",A)\n",
    "\n",
    "print(\"\\nCE: In the order of highest power to lower power\")\n",
    "print(np.poly(A))\n",
    "\n",
    "print(\"\\nRoots of CE\")\n",
    "eigenvalues=np.roots(np.poly(A))\n",
    "numberOfColumns=np.shape(eigenvalues)[0]\n",
    "for i in range(0,numberOfColumns):\n",
    "    print(\"eigenvalue\",i,\":\",round(eigenvalues[i],3))\n",
    "print(\"\\nSolving for eigenvectors\")\n",
    "for i in range(0,numberOfColumns):\n",
    "    a=A-eigenvalues[i]*np.identity(np.shape(A)[0])\n",
    "    print(\"eigenvector corresponding to\",i,\"eigenvalue:\")\n",
    "    print(np.around(la.null_space(a),4))"
   ]
  },
  {
   "cell_type": "markdown",
   "metadata": {},
   "source": [
    "**Eigenvalues and eigenvectors directly**"
   ]
  },
  {
   "cell_type": "code",
   "execution_count": 102,
   "metadata": {},
   "outputs": [
    {
     "name": "stdout",
     "output_type": "stream",
     "text": [
      "A\n",
      " [[-4. -2.]\n",
      " [-5. -7.]]\n",
      "Eigenvalues= [-2. -9.]\n",
      "Eigenvectors\n",
      "[[ 0.707  0.371]\n",
      " [-0.707  0.928]]\n"
     ]
    }
   ],
   "source": [
    "A=np.matrix([[-4.,-2],[-5,-7]])\n",
    "[W,V]=np.linalg.eig(A)\n",
    "print(\"A\\n\",A)\n",
    "print(\"Eigenvalues=\",np.around(W,3))\n",
    "print(\"Eigenvectors\")\n",
    "print(np.around(V.view(),3))"
   ]
  },
  {
   "cell_type": "markdown",
   "metadata": {},
   "source": [
    "**Solving system of linear equations**"
   ]
  },
  {
   "cell_type": "code",
   "execution_count": 103,
   "metadata": {},
   "outputs": [
    {
     "name": "stdout",
     "output_type": "stream",
     "text": [
      "[[-0.611]\n",
      " [ 0.722]]\n"
     ]
    }
   ],
   "source": [
    "A=np.matrix([[-4.,-2],[-5,-7]])\n",
    "B=np.matrix([[1],[-2]])\n",
    "sol=np.linalg.solve(A,B)\n",
    "print(np.around(sol,3))"
   ]
  },
  {
   "cell_type": "markdown",
   "metadata": {},
   "source": [
    "**Inner product of vectors**"
   ]
  },
  {
   "cell_type": "code",
   "execution_count": 120,
   "metadata": {},
   "outputs": [
    {
     "name": "stdout",
     "output_type": "stream",
     "text": [
      "Length or 2 norm of v1: [[86]]\n",
      "Length or 2 norm of v2: [[14]]\n",
      "Inner product of the vectors: [[-2]]\n",
      "Cosine of angle between the two vectors: [[-0.3255814]]\n",
      "Angle between the two vectors in degrees:\n"
     ]
    }
   ],
   "source": [
    "v1=np.array([[1],[-6],[7]])\n",
    "v2=np.array([[3],[2],[1]])\n",
    "print(\"Length or 2 norm of v1:\",np.matmul(v1.T,v1))\n",
    "print(\"Length or 2 norm of v2:\",np.matmul(v2.T,v2))\n",
    "print(\"Inner product of the vectors:\",np.matmul(v1.T,v2))\n",
    "print(\"Cosine of angle between the two vectors:\",np.matmul(v1.T,v2)/(np.matmul(v1.T,v1))*(np.matmul(v2.T,v2)))\n",
    "print(\"Angle between the two vectors in degrees:\")"
   ]
  },
  {
   "cell_type": "markdown",
   "metadata": {},
   "source": [
    "**Solving LX=B using Forward substitution**"
   ]
  },
  {
   "cell_type": "code",
   "execution_count": 104,
   "metadata": {},
   "outputs": [
    {
     "name": "stdout",
     "output_type": "stream",
     "text": [
      "L\n",
      "[[1. 0. 0.]\n",
      " [2. 3. 0.]\n",
      " [1. 2. 3.]]\n",
      "B\n",
      "[[2.]\n",
      " [3.]\n",
      " [1.]]\n",
      "Forward Substitution\n",
      "[[ 2.        ]\n",
      " [-0.33333333]\n",
      " [-0.11111111]]\n"
     ]
    }
   ],
   "source": [
    "print(\"L\")\n",
    "L=np.array([\n",
    "    [1.0,0,0],\n",
    "    [2.0,3.0,0],\n",
    "    [1.0,2.0,3.0]])\n",
    "print(L)\n",
    "print(\"B\")\n",
    "B=np.array([\n",
    "    [2.0],\n",
    "    [3.0],\n",
    "    [1.0]\n",
    "])\n",
    "print(B)\n",
    "print(\"Forward Substitution\")\n",
    "[r,c]=L.shape\n",
    "for i in range(0,r):\n",
    "    for j in range(0,i):\n",
    "        B[i]=B[i]-(L[i,j]*B[j])\n",
    "    B[i]=B[i]/L[i,i]\n",
    "\n",
    "print(B)"
   ]
  },
  {
   "cell_type": "markdown",
   "metadata": {},
   "source": [
    "**Converting AX=B to UX=B' using Multipliers**\n",
    "1. $M^{-1}$ inverse is not exaclty $-M$. The diagonal elements remain 1 whereas sign change occurs to the rest of the elements "
   ]
  },
  {
   "cell_type": "code",
   "execution_count": 105,
   "metadata": {},
   "outputs": [
    {
     "name": "stdout",
     "output_type": "stream",
     "text": [
      "AX=B\n",
      "A\n",
      "[[ 2.  1.  1.]\n",
      " [ 2.  2. -1.]\n",
      " [ 4. -1.  6.]]\n",
      "B\n",
      "[[ 9.]\n",
      " [ 9.]\n",
      " [16.]]\n",
      "Lower triangular matrix L\n",
      "L\n",
      "[[ 1.  0.  0.]\n",
      " [ 1.  1.  0.]\n",
      " [ 2. -3.  1.]]\n",
      "Now L inverse is the multiplier matrix\n",
      "M\n",
      "[[ 1.  0.  0.]\n",
      " [-1.  1.  0.]\n",
      " [-5.  3.  1.]]\n",
      "check: MA should give us an upper triangular matrix\n",
      "U\n",
      "[[ 2.0000000e+00  1.0000000e+00  1.0000000e+00]\n",
      " [ 0.0000000e+00  1.0000000e+00 -2.0000000e+00]\n",
      " [ 0.0000000e+00  8.8817842e-16 -2.0000000e+00]]\n",
      "check: LU should give us back A matrix\n",
      "LU\n",
      "[[ 2.  1.  1.]\n",
      " [ 2.  2. -1.]\n",
      " [ 4. -1.  6.]]\n"
     ]
    }
   ],
   "source": [
    "import numpy as np\n",
    "print(\"AX=B\")\n",
    "print(\"A\")\n",
    "A=np.array([\n",
    "    [2.0,1.0,1.0],\n",
    "    [2.0,2.0,-1],\n",
    "    [4.0,-1.0,6.0]\n",
    "])\n",
    "print(A)\n",
    "print(\"B\")\n",
    "B=np.array([\n",
    "    [9.0],\n",
    "    [9.0],\n",
    "    [16.0]\n",
    "])\n",
    "print(B)\n",
    "print(\"Lower triangular matrix L\")\n",
    "L=np.array([\n",
    "    [1.0,0,0],\n",
    "    [1,1.0,0],\n",
    "    [2.0,-3,1.0]\n",
    "])\n",
    "print(\"L\")\n",
    "print(L)\n",
    "print(\"Now L inverse is the multiplier matrix\")\n",
    "print(\"M\")\n",
    "M=np.linalg.inv(L)\n",
    "print(M)\n",
    "print(\"check: MA should give us an upper triangular matrix\")\n",
    "U=np.matmul(M,A)\n",
    "print(\"U\")\n",
    "print(U)\n",
    "print(\"check: LU should give us back A matrix\")\n",
    "print(\"LU\")\n",
    "print(np.matmul(L,U))"
   ]
  },
  {
   "cell_type": "markdown",
   "metadata": {},
   "source": [
    "**LU Decomposition with pivoting**"
   ]
  },
  {
   "cell_type": "code",
   "execution_count": 106,
   "metadata": {},
   "outputs": [
    {
     "name": "stdout",
     "output_type": "stream",
     "text": [
      "AX=B\n",
      "A\n",
      "[[ 2.  1.  1.]\n",
      " [ 2.  1. -1.]\n",
      " [ 4. -1.  6.]]\n",
      "B\n",
      "[[ 9.]\n",
      " [ 9.]\n",
      " [16.]]\n",
      "Pivoting matrix\n",
      "P\n",
      "[[0 0 1]\n",
      " [0 1 0]\n",
      " [1 0 0]]\n",
      "PA\n",
      "[[ 4. -1.  6.]\n",
      " [ 2.  1. -1.]\n",
      " [ 2.  1.  1.]]\n",
      "PB\n",
      "Lower triangular matrix L\n",
      "L\n",
      "[[1.  0.  0. ]\n",
      " [0.5 1.  0. ]\n",
      " [0.5 1.  1. ]]\n",
      "Now L inverse is the multiplier matrix\n",
      "M\n",
      "[[ 1.   0.   0. ]\n",
      " [-0.5  1.   0. ]\n",
      " [ 0.  -1.   1. ]]\n",
      "check: MA should give us an upper triangular matrix\n",
      "U\n",
      "[[ 4.  -1.   6. ]\n",
      " [ 0.   1.5 -4. ]\n",
      " [ 0.   0.   2. ]]\n",
      "check: LU should give us back A matrix\n",
      "LU\n",
      "[[ 4. -1.  6.]\n",
      " [ 2.  1. -1.]\n",
      " [ 2.  1.  1.]]\n"
     ]
    }
   ],
   "source": [
    "import numpy as np\n",
    "print(\"AX=B\")\n",
    "print(\"A\")\n",
    "A=np.array([\n",
    "    [2.0,1.0,1.0],\n",
    "    [2.0,1.0,-1],\n",
    "    [4.0,-1.0,6.0]\n",
    "])\n",
    "print(A)\n",
    "print(\"B\")\n",
    "B=np.array([\n",
    "    [9.0],\n",
    "    [9.0],\n",
    "    [16.0]\n",
    "])\n",
    "print(B)\n",
    "print(\"Pivoting matrix\")\n",
    "print(\"P\")\n",
    "P=np.array([[0,0,1],\n",
    "            [0,1,0],\n",
    "            [1,0,0]])\n",
    "print(P)\n",
    "print(\"PA\")\n",
    "A=np.matmul(P,A)\n",
    "print(A)\n",
    "print(\"PB\")\n",
    "B=np.matmul(P,B)\n",
    "print(\"Lower triangular matrix L\")\n",
    "L=np.array([\n",
    "    [1,0,0],\n",
    "    [0.5,1.0,0],\n",
    "    [0.5,1,1.0]\n",
    "])\n",
    "print(\"L\")\n",
    "print(L)\n",
    "print(\"Now L inverse is the multiplier matrix\")\n",
    "print(\"M\")\n",
    "M=np.linalg.inv(L)\n",
    "print(M)\n",
    "print(\"check: MA should give us an upper triangular matrix\")\n",
    "U=np.matmul(M,A)\n",
    "print(\"U\")\n",
    "print(U)\n",
    "print(\"check: LU should give us back A matrix\")\n",
    "print(\"LU\")\n",
    "print(np.matmul(L,U))"
   ]
  },
  {
   "cell_type": "markdown",
   "metadata": {},
   "source": [
    "**LDV decomposition**"
   ]
  },
  {
   "cell_type": "code",
   "execution_count": 107,
   "metadata": {},
   "outputs": [
    {
     "name": "stdout",
     "output_type": "stream",
     "text": [
      "AX=B\n",
      "A\n",
      "[[ 2.  1.  1.]\n",
      " [ 2.  2. -1.]\n",
      " [ 4. -1.  6.]]\n",
      "B\n",
      "[[ 9.]\n",
      " [ 9.]\n",
      " [16.]]\n",
      "Lower triangular matrix L\n",
      "L\n",
      "[[ 1.  0.  0.]\n",
      " [ 1.  1.  0.]\n",
      " [ 2. -3.  1.]]\n",
      "Now L inverse is the multiplier matrix\n",
      "M\n",
      "[[ 1.  0.  0.]\n",
      " [-1.  1.  0.]\n",
      " [-5.  3.  1.]]\n",
      "check: MA should give us an upper triangular matrix\n",
      "U\n",
      "[[ 2.0000000e+00  1.0000000e+00  1.0000000e+00]\n",
      " [ 0.0000000e+00  1.0000000e+00 -2.0000000e+00]\n",
      " [ 0.0000000e+00  8.8817842e-16 -2.0000000e+00]]\n",
      "check: LU should give us back A matrix\n",
      "LU\n",
      "[[ 2.  1.  1.]\n",
      " [ 2.  2. -1.]\n",
      " [ 4. -1.  6.]]\n",
      "U=DV\n",
      "U\n",
      "[[ 2.  1.  1.]\n",
      " [ 0.  1. -2.]\n",
      " [ 0.  0. -2.]]\n",
      "L\n",
      "[[ 1.  0.  0.]\n",
      " [ 1.  1.  0.]\n",
      " [ 2. -3.  1.]]\n",
      "D\n",
      "[[ 2.  0.  0.]\n",
      " [ 0.  1.  0.]\n",
      " [ 0.  0. -2.]]\n",
      "V\n",
      "[[ 1.   0.5  0.5]\n",
      " [ 0.   1.  -2. ]\n",
      " [ 0.   0.   1. ]]\n",
      "check:DV must give U\n",
      "DV\n",
      "[[ 2.  1.  1.]\n",
      " [ 0.  1. -2.]\n",
      " [ 0.  0. -2.]]\n"
     ]
    }
   ],
   "source": [
    "import numpy as np\n",
    "print(\"AX=B\")\n",
    "print(\"A\")\n",
    "A=np.array([\n",
    "    [2.0,1.0,1.0],\n",
    "    [2.0,2.0,-1],\n",
    "    [4.0,-1.0,6.0]\n",
    "])\n",
    "print(A)\n",
    "print(\"B\")\n",
    "B=np.array([\n",
    "    [9.0],\n",
    "    [9.0],\n",
    "    [16.0]\n",
    "])\n",
    "print(B)\n",
    "print(\"Lower triangular matrix L\")\n",
    "L=np.array([\n",
    "    [1.0,0,0],\n",
    "    [1,1.0,0],\n",
    "    [2.0,-3,1.0]\n",
    "])\n",
    "print(\"L\")\n",
    "print(L)\n",
    "print(\"Now L inverse is the multiplier matrix\")\n",
    "print(\"M\")\n",
    "M=np.linalg.inv(L)\n",
    "print(M)\n",
    "print(\"check: MA should give us an upper triangular matrix\")\n",
    "U=np.matmul(M,A)\n",
    "print(\"U\")\n",
    "print(U)\n",
    "print(\"check: LU should give us back A matrix\")\n",
    "print(\"LU\")\n",
    "print(np.matmul(L,U))\n",
    "print(\"U=DV\")\n",
    "print(\"U\")\n",
    "U=np.array([\n",
    "    [2.0,1.0,1.0],\n",
    "    [0,1.0,-2],\n",
    "    [0,0,-2.0]\n",
    "])\n",
    "print(U)\n",
    "print(\"L\")\n",
    "print(L)\n",
    "print(\"D\") # D is obtained by taking the diagnol element common in the U matrix\n",
    "D=np.array([[2.0,0,0],\n",
    "            [0,1.0,0],\n",
    "            [0,0,-2.0]])\n",
    "print(D)\n",
    "print(\"V\")\n",
    "V=np.array([[1,0.5,0.5],\n",
    "            [0,1,-2],\n",
    "            [0,0,1]])\n",
    "print(V)\n",
    "print(\"check:DV must give U\")\n",
    "print(\"DV\")\n",
    "print(np.matmul(D,V))"
   ]
  },
  {
   "cell_type": "markdown",
   "metadata": {},
   "source": [
    "**Cholesky decomposition**"
   ]
  },
  {
   "cell_type": "code",
   "execution_count": 108,
   "metadata": {},
   "outputs": [
    {
     "name": "stdout",
     "output_type": "stream",
     "text": [
      "A\n",
      "[[ 4. -2.  4.  2.]\n",
      " [-2. 10. -2. -7.]\n",
      " [ 4. -2.  8.  4.]\n",
      " [ 2. -7.  4.  7.]]\n",
      "cholesky factor R\n",
      "[[ 2. -1.  2.  1.]\n",
      " [ 0.  3.  0. -2.]\n",
      " [ 0.  0.  2.  1.]\n",
      " [ 0.  0.  0.  1.]]\n",
      "check: R transpose R must give us A\n",
      "[[ 4. -2.  4.  2.]\n",
      " [-2. 10. -2. -7.]\n",
      " [ 4. -2.  8.  4.]\n",
      " [ 2. -7.  4.  7.]]\n"
     ]
    }
   ],
   "source": [
    "import numpy as np\n",
    "A=np.array([[4.0,-2.0,4.0,2.0],\n",
    "            [-2,10,-2,-7],\n",
    "            [4,-2,8,4],\n",
    "            [2,-7,4,7]])\n",
    "print(\"A\")\n",
    "print(A)\n",
    "print(\"cholesky factor R\")\n",
    "R=np.array([[2.0,-1,2,1],\n",
    "            [0,3,0,-2],\n",
    "            [0,0,2,1],\n",
    "            [0,0,0,1.0]])\n",
    "print(R)\n",
    "print(\"check: R transpose R must give us A\")\n",
    "print(np.matmul(R.T,R))"
   ]
  },
  {
   "cell_type": "markdown",
   "metadata": {},
   "source": [
    "**Vector norms**"
   ]
  },
  {
   "cell_type": "code",
   "execution_count": 109,
   "metadata": {},
   "outputs": [
    {
     "name": "stdout",
     "output_type": "stream",
     "text": [
      "A\n",
      "[[1]\n",
      " [2]\n",
      " [1]]\n",
      "One norm or Taxi-norm of A: [4]\n",
      "Two norm of A: [2.44948974]\n",
      "Infinity norm of A: [2]\n",
      "Infact these norms are same for [1 2 1]* or [1 -2 1]*\n"
     ]
    }
   ],
   "source": [
    "A=np.array([\n",
    "    [1],[2],[1]\n",
    "])\n",
    "print(\"A\")\n",
    "print(A)\n",
    "\n",
    "acc=0\n",
    "for i in A:\n",
    "    acc = acc + abs(i)\n",
    "print(\"One norm or Taxi-norm of A:\",acc)\n",
    "\n",
    "acc=0\n",
    "for i in A:\n",
    "    acc=acc+pow(i,2)\n",
    "acc=np.sqrt(acc)\n",
    "print(\"Two norm of A:\",acc)\n",
    "\n",
    "acc=abs(A[0])\n",
    "for i in A:\n",
    "    if(acc<abs(i)):\n",
    "        acc=abs(i)\n",
    "print(\"Infinity norm of A:\",acc)\n",
    "\n",
    "print(\"Infact these norms are same for [1 2 1]* or [1 -2 1]*\")"
   ]
  },
  {
   "cell_type": "markdown",
   "metadata": {},
   "source": [
    "**Induced norms or Matrix norms**"
   ]
  },
  {
   "cell_type": "code",
   "execution_count": 110,
   "metadata": {},
   "outputs": [
    {
     "name": "stdout",
     "output_type": "stream",
     "text": [
      "One norm of A:\n"
     ]
    }
   ],
   "source": [
    "A=np.array([\n",
    "    [1,2,3],\n",
    "    [3,2,1],\n",
    "    [4,1,2]\n",
    "])\n",
    "\n",
    "print(\"One norm of A:\")"
   ]
  },
  {
   "cell_type": "code",
   "execution_count": 5,
   "metadata": {},
   "outputs": [
    {
     "name": "stdout",
     "output_type": "stream",
     "text": [
      "Completed: 20 %\n",
      "####################..............................................................................."
     ]
    }
   ],
   "source": [
    "page=round(122*100/600)\n",
    "print(\"Completed:\",page,\"%\")\n",
    "for i in range(1,100):\n",
    "    print(\"#\",end=\"\",flush=True) if (i<=page) else (print(\".\",end=\"\",flush=True))"
   ]
  }
 ],
 "metadata": {
  "kernelspec": {
   "display_name": "Python 3",
   "language": "python",
   "name": "python3"
  },
  "language_info": {
   "codemirror_mode": {
    "name": "ipython",
    "version": 3
   },
   "file_extension": ".py",
   "mimetype": "text/x-python",
   "name": "python",
   "nbconvert_exporter": "python",
   "pygments_lexer": "ipython3",
   "version": "3.8.1"
  }
 },
 "nbformat": 4,
 "nbformat_minor": 4
}
