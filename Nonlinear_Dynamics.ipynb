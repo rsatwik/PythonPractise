{
 "cells": [
  {
   "cell_type": "code",
   "execution_count": 26,
   "metadata": {},
   "outputs": [
    {
     "name": "stdout",
     "output_type": "stream",
     "text": [
      "sym.expand(expression)\n",
      "sym.simplify(expression)\n",
      "sym.limit(function, variable, point)\n"
     ]
    },
    {
     "data": {
      "image/png": "[encoded data removed]",
      "text/plain": [
       "<Figure size 432x288 with 1 Axes>"
      ]
     },
     "metadata": {
      "needs_background": "light"
     },
     "output_type": "display_data"
    }
   ],
   "source": [
    "import sympy as sym\n",
    "import numpy as np\n",
    "import matplotlib.pyplot as plt\n",
    "from matplotlib.animation import FuncAnimation\n",
    "from sympy import pprint\n",
    "\n",
    "t=np.linspace(-30,30,1000)\n",
    "y=np.sin(t)/(np.pi*t)\n",
    "\n",
    "plt.plot(t,y,'*g')\n",
    "plt.grid()\n",
    "plt.title(\"$sin(x)$\")\n",
    "x=sym.Symbol('x')\n",
    "plt.annotate(\"peak\",xy=(0,sym.limit(sym.sin(x)/(sym.pi*x),x,0)))\n",
    "\n",
    "print(\"sym.expand(expression)\")\n",
    "print(\"sym.simplify(expression)\")\n",
    "print(\"sym.limit(function, variable, point)\")\n",
    "print(\"sym.diff(function, variable, order)\")\n",
    "print(\"sym.series(expression, variable)\") # Taylor series\n",
    "print(\"sym.integrate(function,(variable,lowlimit,highlimit))\")\n",
    "print(\"sym.solveset(function,variable)\")\n",
    "print(\"sym.solve((eq1,eq2),(var1,var2))\")\n",
    "print(\"sym.factor(function)\")"
   ]
  },
  {
   "cell_type": "code",
   "execution_count": 27,
   "metadata": {},
   "outputs": [
    {
     "name": "stdout",
     "output_type": "stream",
     "text": [
      "defining functions\n",
      "      4\n",
      "-2 + ℯ \n",
      "52.5981500331442\n",
      "       8\n",
      "-11 + ℯ \n",
      "2969.95798704173\n",
      "       12\n",
      "-26 + ℯ  \n",
      "162728.791419004\n"
     ]
    }
   ],
   "source": [
    "print(\"defining functions\")\n",
    "def f(x):\n",
    "    return sym.exp(x)**4-3*x**2+1\n",
    "for i in range(1,4):\n",
    "    pprint(f(i))\n",
    "    print(f(i).evalf())"
   ]
  },
  {
   "cell_type": "code",
   "execution_count": null,
   "metadata": {},
   "outputs": [],
   "source": [
    "print(\"Solving differential equations\")\n",
    "f, g = sym.symbols('f g', cls=sym.Function) #create an undefined function by passing cls=Function \n",
    "#  f(x), will represent an unknown function\n",
    "pprint(f(x).diff(x)+f(x))\n",
    "pprint(f(x).diff(x,x)+f(x))\n",
    "print(\"solving differential equations\")\n",
    "pprint(sym.dsolve(f(x).diff(x,x)+f(x),f(x)))\n",
    "# pprint(sym.dsolve(sym.sin(x) * sym.cos(f(x)) + sym.cos(x) * sym.sin(f(x)) * f(x).diff(x), f(x), hint='separable')) #solve as seperable equation\n",
    "pprint((f(x).diff(x)*x+f(x)-f(x)**2))\n",
    "pprint(sym.dsolve(f(x).diff(x)*x+f(x)-f(x)**2,f(x)))"
   ]
  },
  {
   "cell_type": "markdown",
   "metadata": {},
   "source": [
    "**Test Bench**"
   ]
  },
  {
   "cell_type": "code",
   "execution_count": null,
   "metadata": {},
   "outputs": [],
   "source": []
  }
 ],
 "metadata": {
  "kernelspec": {
   "display_name": "Python 3",
   "language": "python",
   "name": "python3"
  },
  "language_info": {
   "codemirror_mode": {
    "name": "ipython",
    "version": 3
   },
   "file_extension": ".py",
   "mimetype": "text/x-python",
   "name": "python",
   "nbconvert_exporter": "python",
   "pygments_lexer": "ipython3",
   "version": "3.8.1"
  }
 },
 "nbformat": 4,
 "nbformat_minor": 4
}
